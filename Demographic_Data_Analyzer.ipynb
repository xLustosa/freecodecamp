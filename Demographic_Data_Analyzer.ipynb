{
  "nbformat": 4,
  "nbformat_minor": 0,
  "metadata": {
    "colab": {
      "name": "Demographic Data Analyzer.ipynb",
      "provenance": [],
      "collapsed_sections": [],
      "authorship_tag": "ABX9TyPoRZpsIGE49OWZiH+ZInKH",
      "include_colab_link": true
    },
    "kernelspec": {
      "name": "python3",
      "display_name": "Python 3"
    },
    "language_info": {
      "name": "python"
    }
  },
  "cells": [
    {
      "cell_type": "markdown",
      "metadata": {
        "id": "view-in-github",
        "colab_type": "text"
      },
      "source": [
        "<a href=\"https://colab.research.google.com/github/xLustosa/freecodecamp/blob/main/Demographic_Data_Analyzer.ipynb\" target=\"_parent\"><img src=\"https://colab.research.google.com/assets/colab-badge.svg\" alt=\"Open In Colab\"/></a>"
      ]
    },
    {
      "cell_type": "markdown",
      "metadata": {
        "id": "I0Pn7tBZVuem"
      },
      "source": [
        "**Dataset Source**\n",
        "Dua, D. and Graff, C. (2019). UCI Machine Learning Repository [http://archive.ics.uci.edu/ml]. Irvine, CA: University of California, School of Information and Computer Science."
      ]
    },
    {
      "cell_type": "code",
      "metadata": {
        "id": "yJerzkTPV9--"
      },
      "source": [
        "import pandas as pd\n",
        "url = 'https://raw.githubusercontent.com/xLustosa/Notebooks/main/adult.data.csv'\n",
        "df = pd.read_csv(url)"
      ],
      "execution_count": null,
      "outputs": []
    },
    {
      "cell_type": "code",
      "metadata": {
        "colab": {
          "base_uri": "https://localhost:8080/",
          "height": 206
        },
        "id": "vDwV3_bDiH0G",
        "outputId": "524efc5d-3168-4a61-a92e-67f692e08c84"
      },
      "source": [
        "df.head()"
      ],
      "execution_count": null,
      "outputs": [
        {
          "output_type": "execute_result",
          "data": {
            "text/html": [
              "<div>\n",
              "<style scoped>\n",
              "    .dataframe tbody tr th:only-of-type {\n",
              "        vertical-align: middle;\n",
              "    }\n",
              "\n",
              "    .dataframe tbody tr th {\n",
              "        vertical-align: top;\n",
              "    }\n",
              "\n",
              "    .dataframe thead th {\n",
              "        text-align: right;\n",
              "    }\n",
              "</style>\n",
              "<table border=\"1\" class=\"dataframe\">\n",
              "  <thead>\n",
              "    <tr style=\"text-align: right;\">\n",
              "      <th></th>\n",
              "      <th>age</th>\n",
              "      <th>workclass</th>\n",
              "      <th>fnlwgt</th>\n",
              "      <th>education</th>\n",
              "      <th>education-num</th>\n",
              "      <th>marital-status</th>\n",
              "      <th>occupation</th>\n",
              "      <th>relationship</th>\n",
              "      <th>race</th>\n",
              "      <th>sex</th>\n",
              "      <th>capital-gain</th>\n",
              "      <th>capital-loss</th>\n",
              "      <th>hours-per-week</th>\n",
              "      <th>native-country</th>\n",
              "      <th>salary</th>\n",
              "    </tr>\n",
              "  </thead>\n",
              "  <tbody>\n",
              "    <tr>\n",
              "      <th>0</th>\n",
              "      <td>39</td>\n",
              "      <td>State-gov</td>\n",
              "      <td>77516</td>\n",
              "      <td>Bachelors</td>\n",
              "      <td>13</td>\n",
              "      <td>Never-married</td>\n",
              "      <td>Adm-clerical</td>\n",
              "      <td>Not-in-family</td>\n",
              "      <td>White</td>\n",
              "      <td>Male</td>\n",
              "      <td>2174</td>\n",
              "      <td>0</td>\n",
              "      <td>40</td>\n",
              "      <td>United-States</td>\n",
              "      <td>&lt;=50K</td>\n",
              "    </tr>\n",
              "    <tr>\n",
              "      <th>1</th>\n",
              "      <td>50</td>\n",
              "      <td>Self-emp-not-inc</td>\n",
              "      <td>83311</td>\n",
              "      <td>Bachelors</td>\n",
              "      <td>13</td>\n",
              "      <td>Married-civ-spouse</td>\n",
              "      <td>Exec-managerial</td>\n",
              "      <td>Husband</td>\n",
              "      <td>White</td>\n",
              "      <td>Male</td>\n",
              "      <td>0</td>\n",
              "      <td>0</td>\n",
              "      <td>13</td>\n",
              "      <td>United-States</td>\n",
              "      <td>&lt;=50K</td>\n",
              "    </tr>\n",
              "    <tr>\n",
              "      <th>2</th>\n",
              "      <td>38</td>\n",
              "      <td>Private</td>\n",
              "      <td>215646</td>\n",
              "      <td>HS-grad</td>\n",
              "      <td>9</td>\n",
              "      <td>Divorced</td>\n",
              "      <td>Handlers-cleaners</td>\n",
              "      <td>Not-in-family</td>\n",
              "      <td>White</td>\n",
              "      <td>Male</td>\n",
              "      <td>0</td>\n",
              "      <td>0</td>\n",
              "      <td>40</td>\n",
              "      <td>United-States</td>\n",
              "      <td>&lt;=50K</td>\n",
              "    </tr>\n",
              "    <tr>\n",
              "      <th>3</th>\n",
              "      <td>53</td>\n",
              "      <td>Private</td>\n",
              "      <td>234721</td>\n",
              "      <td>11th</td>\n",
              "      <td>7</td>\n",
              "      <td>Married-civ-spouse</td>\n",
              "      <td>Handlers-cleaners</td>\n",
              "      <td>Husband</td>\n",
              "      <td>Black</td>\n",
              "      <td>Male</td>\n",
              "      <td>0</td>\n",
              "      <td>0</td>\n",
              "      <td>40</td>\n",
              "      <td>United-States</td>\n",
              "      <td>&lt;=50K</td>\n",
              "    </tr>\n",
              "    <tr>\n",
              "      <th>4</th>\n",
              "      <td>28</td>\n",
              "      <td>Private</td>\n",
              "      <td>338409</td>\n",
              "      <td>Bachelors</td>\n",
              "      <td>13</td>\n",
              "      <td>Married-civ-spouse</td>\n",
              "      <td>Prof-specialty</td>\n",
              "      <td>Wife</td>\n",
              "      <td>Black</td>\n",
              "      <td>Female</td>\n",
              "      <td>0</td>\n",
              "      <td>0</td>\n",
              "      <td>40</td>\n",
              "      <td>Cuba</td>\n",
              "      <td>&lt;=50K</td>\n",
              "    </tr>\n",
              "  </tbody>\n",
              "</table>\n",
              "</div>"
            ],
            "text/plain": [
              "   age         workclass  fnlwgt  ... hours-per-week  native-country salary\n",
              "0   39         State-gov   77516  ...             40   United-States  <=50K\n",
              "1   50  Self-emp-not-inc   83311  ...             13   United-States  <=50K\n",
              "2   38           Private  215646  ...             40   United-States  <=50K\n",
              "3   53           Private  234721  ...             40   United-States  <=50K\n",
              "4   28           Private  338409  ...             40            Cuba  <=50K\n",
              "\n",
              "[5 rows x 15 columns]"
            ]
          },
          "metadata": {},
          "execution_count": 2
        }
      ]
    },
    {
      "cell_type": "markdown",
      "metadata": {
        "id": "nU6CSEuaiwDr"
      },
      "source": [
        "# 1. How many people of each race are represented in this dataset? This should be a Pandas series with race names as the index labels. (race column)"
      ]
    },
    {
      "cell_type": "code",
      "metadata": {
        "colab": {
          "base_uri": "https://localhost:8080/"
        },
        "id": "ZzEOkueUYEu_",
        "outputId": "cf9cb7fb-d953-4b3d-a39d-6ee62de2dc27"
      },
      "source": [
        "df_race = df['race'].value_counts()\n",
        "df_race"
      ],
      "execution_count": null,
      "outputs": [
        {
          "output_type": "execute_result",
          "data": {
            "text/plain": [
              "White                 27816\n",
              "Black                  3124\n",
              "Asian-Pac-Islander     1039\n",
              "Amer-Indian-Eskimo      311\n",
              "Other                   271\n",
              "Name: race, dtype: int64"
            ]
          },
          "metadata": {},
          "execution_count": 40
        }
      ]
    },
    {
      "cell_type": "markdown",
      "metadata": {
        "id": "HshiS0LdjAwp"
      },
      "source": [
        "# 2. What is the average age of men?"
      ]
    },
    {
      "cell_type": "code",
      "metadata": {
        "colab": {
          "base_uri": "https://localhost:8080/"
        },
        "id": "8M-zlkxljZIU",
        "outputId": "80cf7df0-4848-4de3-94fe-175f9e0b4158"
      },
      "source": [
        "print(round(df[(df['sex'] == \"Male\")].age.mean(),1))"
      ],
      "execution_count": null,
      "outputs": [
        {
          "output_type": "stream",
          "name": "stdout",
          "text": [
            "39.4\n"
          ]
        }
      ]
    },
    {
      "cell_type": "markdown",
      "metadata": {
        "id": "X-nQKuWqrI96"
      },
      "source": [
        "# 3. What is the percentage of people who have a Bachelor's degree?"
      ]
    },
    {
      "cell_type": "code",
      "metadata": {
        "colab": {
          "base_uri": "https://localhost:8080/"
        },
        "id": "ezq6w7BjrStp",
        "outputId": "57fd6a19-b394-49e9-bb85-14ba64c9f1bb"
      },
      "source": [
        "df_edu = df['education'].value_counts()\n",
        "percent = round((df_edu[df_edu.index =='Bachelors']/df_edu.sum())*100,1)\n",
        "print(percent[0],'%')"
      ],
      "execution_count": null,
      "outputs": [
        {
          "output_type": "stream",
          "name": "stdout",
          "text": [
            "16.4 %\n"
          ]
        }
      ]
    },
    {
      "cell_type": "markdown",
      "metadata": {
        "id": "WOMXgwnNzsQd"
      },
      "source": [
        "# 4. What percentage of people with advanced education (Bachelors, Masters, or Doctorate) make more than 50K?"
      ]
    },
    {
      "cell_type": "code",
      "metadata": {
        "colab": {
          "base_uri": "https://localhost:8080/"
        },
        "id": "ki_VyvrezvRO",
        "outputId": "f4d9c433-19a3-4a96-bf8d-f1212cd8cbd2"
      },
      "source": [
        "df_sal = pd.DataFrame({'Total':df.groupby('salary').education.value_counts()})\n",
        "x_more = df_sal.Total.loc[(\">50K\", \"Bachelors\")] + df_sal.Total.loc[(\">50K\", \"Masters\")] + df_sal.Total.loc[(\">50K\", \"Doctorate\")]\n",
        "x_less = df_sal.Total.loc[(\"<=50K\", \"Bachelors\")] + df_sal.Total.loc[(\"<=50K\", \"Masters\")] + df_sal.Total.loc[(\"<=50K\", \"Doctorate\")]\n",
        "percent_sal = round((x_more/(x_more + x_less))*100,1)\n",
        "print(percent_sal,'%')"
      ],
      "execution_count": null,
      "outputs": [
        {
          "output_type": "stream",
          "name": "stdout",
          "text": [
            "46.5 %\n"
          ]
        }
      ]
    },
    {
      "cell_type": "markdown",
      "metadata": {
        "id": "wBvVpb7Pf_LY"
      },
      "source": [
        "# 5. What percentage of people without advanced education make more than 50K?"
      ]
    },
    {
      "cell_type": "code",
      "metadata": {
        "colab": {
          "base_uri": "https://localhost:8080/"
        },
        "id": "yCPcZ73tgk18",
        "outputId": "f493ac44-be52-461e-b1fc-8a8d5b1c4557"
      },
      "source": [
        "df_w = pd.DataFrame({'Total':df.groupby('salary').education.value_counts()})\n",
        "total_more = (df_w.Total.loc[(\">50K\")].sum()) - x_more\n",
        "total_less = (df_w.Total.loc[(\"<=50K\")].sum()) - x_less\n",
        "percent_w = round((total_more/(total_more + total_less))*100,1)\n",
        "print(percent_w,'%')\n"
      ],
      "execution_count": null,
      "outputs": [
        {
          "output_type": "stream",
          "name": "stdout",
          "text": [
            "17.4 %\n"
          ]
        }
      ]
    },
    {
      "cell_type": "markdown",
      "metadata": {
        "id": "vkxzQE1pp3OG"
      },
      "source": [
        "# 6. What is the minimum number of hours a person works per week?"
      ]
    },
    {
      "cell_type": "code",
      "metadata": {
        "id": "XILEbkR_p_-B",
        "colab": {
          "base_uri": "https://localhost:8080/"
        },
        "outputId": "8bd04b04-514c-45ab-e837-9d5789a07cf1"
      },
      "source": [
        "df['hours-per-week'].min()"
      ],
      "execution_count": null,
      "outputs": [
        {
          "output_type": "execute_result",
          "data": {
            "text/plain": [
              "1"
            ]
          },
          "metadata": {},
          "execution_count": 8
        }
      ]
    },
    {
      "cell_type": "markdown",
      "metadata": {
        "id": "4PXH7XluYua3"
      },
      "source": [
        "# 7. What percentage of the people who work the minimum number of hours per week have a salary of more than 50K?"
      ]
    },
    {
      "cell_type": "code",
      "metadata": {
        "colab": {
          "base_uri": "https://localhost:8080/"
        },
        "id": "pC91qYrhYten",
        "outputId": "337eea53-1448-48a5-f948-0101920401fd"
      },
      "source": [
        "df_hour = df[(df['hours-per-week'] == 1)]\n",
        "percent_min = round((len(df_hour[(df_hour.salary == '>50K')])/len(df_hour))*100,1)\n",
        "print(percent_min,'%')"
      ],
      "execution_count": null,
      "outputs": [
        {
          "output_type": "stream",
          "name": "stdout",
          "text": [
            "10.0 %\n"
          ]
        }
      ]
    },
    {
      "cell_type": "markdown",
      "metadata": {
        "id": "1xTirrbzY1lC"
      },
      "source": [
        "# 8. What country has the highest percentage of people that earn >50K and what is that percentage?"
      ]
    },
    {
      "cell_type": "code",
      "metadata": {
        "id": "tutRsoxfY17e",
        "colab": {
          "base_uri": "https://localhost:8080/"
        },
        "outputId": "cb759281-e276-4906-f774-2a09c4262e5b"
      },
      "source": [
        "df_country= (df.loc[df['salary'] == \">50K\", 'native-country'].value_counts() / df['native-country'].value_counts()).fillna(0).sort_values(ascending=False)\n",
        "highest_country = df_country.index[0]\n",
        "country_percentage = round(df_country[0]*100,1)\n",
        "\n",
        "print(\"Country with highest percentage of rich:\", highest_country)\n",
        "print(f\"Highest percentage of rich people in country: {country_percentage}%\")"
      ],
      "execution_count": null,
      "outputs": [
        {
          "output_type": "stream",
          "name": "stdout",
          "text": [
            "Country with highest percentage of rich: Iran\n",
            "Highest percentage of rich people in country: 41.9%\n"
          ]
        }
      ]
    },
    {
      "cell_type": "markdown",
      "metadata": {
        "id": "JvKk08UyY2U7"
      },
      "source": [
        "# 9. Identify the most popular occupation for those who earn >50K in India."
      ]
    },
    {
      "cell_type": "code",
      "metadata": {
        "id": "2BEo6-9OMZXJ",
        "colab": {
          "base_uri": "https://localhost:8080/",
          "height": 35
        },
        "outputId": "5bd21d0b-9937-4ced-9da0-6cb669c51e67"
      },
      "source": [
        "df_india = df[(df['native-country'] == 'India') & (df['salary'] == '>50K')][\"occupation\"].value_counts().index[0]\n",
        "df_india\n"
      ],
      "execution_count": null,
      "outputs": [
        {
          "output_type": "execute_result",
          "data": {
            "application/vnd.google.colaboratory.intrinsic+json": {
              "type": "string"
            },
            "text/plain": [
              "'Prof-specialty'"
            ]
          },
          "metadata": {},
          "execution_count": 11
        }
      ]
    }
  ]
}